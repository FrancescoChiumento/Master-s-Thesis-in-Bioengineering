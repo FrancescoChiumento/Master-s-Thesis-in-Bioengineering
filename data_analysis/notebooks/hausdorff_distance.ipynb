{
 "cells": [
  {
   "cell_type": "code",
   "execution_count": null,
   "metadata": {},
   "outputs": [],
   "source": [
    "import SimpleITK as sitk\n",
    "\n",
    "from hausdorff_distance import compute_hausdorff_distance\n",
    "from hausdorff_distance import optimized_compute_average_hausdorff_distance"
   ]
  },
  {
   "cell_type": "code",
   "execution_count": null,
   "metadata": {},
   "outputs": [],
   "source": [
    "mask_path_1 = r\"your_path_here\"\n",
    "mask_path_2 = r\"your_path_here\""
   ]
  },
  {
   "cell_type": "code",
   "execution_count": null,
   "metadata": {},
   "outputs": [],
   "source": [
    "img1 = sitk.ReadImage(mask_path_1)\n",
    "img2 = sitk.ReadImage(mask_path_2)\n",
    "\n",
    "hausdorff_dist = compute_hausdorff_distance(img1, img2)\n",
    "avg_hausdorff_optimized = optimized_compute_average_hausdorff_distance(img1, img2)"
   ]
  },
  {
   "cell_type": "code",
   "execution_count": null,
   "metadata": {},
   "outputs": [],
   "source": [
    "print(\"Hausdorff Distance:\", hausdorff_dist)\n",
    "print(\"Average Hausdorff Distance:\", avg_hausdorff_optimized)"
   ]
  }
 ],
 "metadata": {
  "kernelspec": {
   "display_name": "myenv",
   "language": "python",
   "name": "python3"
  },
  "language_info": {
   "codemirror_mode": {
    "name": "ipython",
    "version": 3
   },
   "file_extension": ".py",
   "mimetype": "text/x-python",
   "name": "python",
   "nbconvert_exporter": "python",
   "pygments_lexer": "ipython3",
   "version": "3.11.4"
  }
 },
 "nbformat": 4,
 "nbformat_minor": 2
}
