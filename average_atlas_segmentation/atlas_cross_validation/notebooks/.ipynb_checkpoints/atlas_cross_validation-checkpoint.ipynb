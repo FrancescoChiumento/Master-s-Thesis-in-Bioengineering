{
 "cells": [
  {
   "cell_type": "markdown",
   "metadata": {},
   "source": [
    "# <span style=\"color:blue\"> Atlas Cross-Validation\n",
    "    \n",
    "2023 Francesco Chiumento"
   ]
  },
  {
   "cell_type": "markdown",
   "metadata": {},
   "source": [
    "Through this code, it is possible to evaluate the average atlases generated using the *average_atlas* code. In particular, it is possible to choose the number of images that will be used for atlas creation. Based on the chosen number of images, all possible combinations of images will be generated from the total number of registered images. Each atlas generated from each combination will participate in the segmentation of the images that were not used in the creation of that atlas. All average DICE scores following the segmentations performed will be saved, and in the end, the combination of images that yielded the highest DICE will be reported."
   ]
  },
  {
   "cell_type": "code",
   "execution_count": null,
   "metadata": {},
   "outputs": [],
   "source": [
    "%load_ext autoreload\n",
    "%autoreload 2"
   ]
  },
  {
   "cell_type": "markdown",
   "metadata": {},
   "source": [
    "## Path configuration"
   ]
  },
  {
   "cell_type": "code",
   "execution_count": null,
   "metadata": {},
   "outputs": [],
   "source": [
    "import os\n",
    "\n",
    "from atlas_cross_validation import (\n",
    "    analyze_combinations,\n",
    "    create_combination_directories,\n",
    "    copy_images_to_preprocessed,\n",
    "    get_best_combination_from_table,\n",
    "    create_results_table\n",
    ")\n",
    "\n",
    "from average_atlas import get_registered_image_paths\n",
    "\n",
    "base_dir = os.getcwd()"
   ]
  },
  {
   "cell_type": "markdown",
   "metadata": {},
   "source": [
    "To use this notebook, the following folders are required:\n",
    "\n",
    "- *__moving_image__* and *__moving_images_directory__* and *__outputs__*: these folders are used in the *average_atlas_creation* code;\n",
    "\n",
    "- *__reference__*: this folder will contain the reference images following the creation of the average atlas for each cluster. This folder is updated automatically;\n",
    "\n",
    "- *__preprocessed__*: these are the same images contained in *moving_images*. The folder is used in the segmentation process;\n",
    "\n",
    "- *__segmented__* and *__registered__*: these folders are created automatically during the segmentation process;\n",
    "\n",
    "- *__temp_combination__*: this folder is created automatically and will contain all possible combinations of images for each cluster."
   ]
  },
  {
   "cell_type": "markdown",
   "metadata": {},
   "source": [
    "The following cell has been commented out because the process of copying the images used for the average atlas has already been performed in the *preprocessed* folder, which is necessary for the subsequent segmentation step"
   ]
  },
  {
   "cell_type": "code",
   "execution_count": null,
   "metadata": {},
   "outputs": [],
   "source": [
    "# num_images_copied = copy_images_to_preprocessed(base_dir)"
   ]
  },
  {
   "cell_type": "markdown",
   "metadata": {},
   "source": [
    "## Generation of clusters"
   ]
  },
  {
   "cell_type": "markdown",
   "metadata": {},
   "source": [
    "In the following phase, all possible combinations of clusters will be generated, and they will be saved in subfolders within the *__temp_combination__* folder."
   ]
  },
  {
   "cell_type": "code",
   "execution_count": null,
   "metadata": {},
   "outputs": [],
   "source": [
    "registered_images = [path for _, path in get_registered_image_paths(base_dir)]\n",
    "clusters = create_combination_directories(base_dir, registered_images)"
   ]
  },
  {
   "cell_type": "markdown",
   "metadata": {},
   "source": [
    "## Calculation of average atlases and average binary masks for each cluster"
   ]
  },
  {
   "cell_type": "markdown",
   "metadata": {},
   "source": [
    "In the followig phase for each cluster, the average atlas and respective average binary masks for the femoral cartilage and femur will be calculated. These files in .mha format will then be saved as: *__reference.mha__*, *__reference_f.mha__*, and *__reference_fc.mha__* in the *_reference/newsubject_* folder.\n",
    "Subsequently, segmentation will be performed on all images that did not participate in the atlas creation, and their respective DICE values will be saved."
   ]
  },
  {
   "cell_type": "code",
   "execution_count": null,
   "metadata": {},
   "outputs": [],
   "source": [
    "dice_scores = analyze_combinations(base_dir, clusters)"
   ]
  },
  {
   "cell_type": "markdown",
   "metadata": {},
   "source": [
    "## Best combination of images"
   ]
  },
  {
   "cell_type": "markdown",
   "metadata": {},
   "source": [
    "Below are the first three combinations of images that yielded the best DICE index."
   ]
  },
  {
   "cell_type": "code",
   "execution_count": null,
   "metadata": {},
   "outputs": [],
   "source": [
    "best_image_names, best_dice_score = get_best_combination_from_table(dice_scores)\n",
    "create_results_table(dice_scores)"
   ]
  },
  {
   "cell_type": "markdown",
   "metadata": {},
   "source": [
    "## References"
   ]
  },
  {
   "cell_type": "markdown",
   "metadata": {},
   "source": [
    "[1] __Source__  \n",
    "__Paper__: Bonaretti S., Gold G., Beaupre G. pyKNEEr: [*An image analysis workflow for open and reproducible research on femoral knee cartilage*](https://journals.plos.org/plosone/article?id=10.1371/journal.pone.0226501) PLOS ONE 15(1): e0226501  \n",
    "__Code__: Bonaretti S. pyKNEEr. Zenodo. 2019. 10.5281/zenodo.2574171 [*Link*](https://zenodo.org/records/7695948)  \n",
    "__Data__: Dataset in (Bonaretti S. et al. 2019). Zenodo. 10.5281/zenodo.2583184 [*Link*](https://zenodo.org/records/2583184)  "
   ]
  },
  {
   "cell_type": "markdown",
   "metadata": {},
   "source": [
    "## Computer system details"
   ]
  },
  {
   "cell_type": "code",
   "execution_count": null,
   "metadata": {},
   "outputs": [],
   "source": [
    "%load_ext watermark\n",
    "%watermark --iversions"
   ]
  }
 ],
 "metadata": {
  "kernelspec": {
   "display_name": "Python 3",
   "language": "python",
   "name": "python3"
  },
  "language_info": {
   "codemirror_mode": {
    "name": "ipython",
    "version": 3
   },
   "file_extension": ".py",
   "mimetype": "text/x-python",
   "name": "python",
   "nbconvert_exporter": "python",
   "pygments_lexer": "ipython3",
   "version": "3.8.5"
  }
 },
 "nbformat": 4,
 "nbformat_minor": 4
}
