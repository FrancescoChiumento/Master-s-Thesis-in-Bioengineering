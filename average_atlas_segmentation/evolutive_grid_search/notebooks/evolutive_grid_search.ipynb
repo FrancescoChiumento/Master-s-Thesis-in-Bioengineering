{
 "cells": [
  {
   "cell_type": "markdown",
   "metadata": {},
   "source": [
    "# <span style=\"color:blue\">Evolutive grid search</span>\n",
    "\n",
    "2023 Francesco Chiumento"
   ]
  },
  {
   "cell_type": "markdown",
   "metadata": {},
   "source": [
    "This code is used to optimize the input parameters for Elastix. The __differential evolution__ algorithm is used to minimize the negative of the mean DICE coefficients resulting from the obtained segmentations. In each iteration, 9 parameters are allowed to vary within established bounds."
   ]
  },
  {
   "cell_type": "markdown",
   "metadata": {},
   "source": [
    "This algorithm is used on a restricted dataset of patients for which binary masks and MRIs are available. The parameters optimized at the end of the three phases can be subsequently used on datasets with a similar type of acquisition."
   ]
  },
  {
   "cell_type": "code",
   "execution_count": null,
   "metadata": {},
   "outputs": [],
   "source": [
    "%load_ext autoreload\n",
    "%autoreload 2"
   ]
  },
  {
   "cell_type": "markdown",
   "metadata": {},
   "source": [
    "## Path configuration"
   ]
  },
  {
   "cell_type": "markdown",
   "metadata": {},
   "source": [
    "The images on which the optimized parameters will be tested should be placed inside the __preprocessed__ folder. Inside the __reference__ folder, there should be the reference MRI (__reference.mha__) and the respective masks for the femur (__reference_f.mha__) and femoral cartilage (__reference_fc.mha__). In the '__segmented__' folder, segmentations of the femoral cartilage for the MRIs will be created at each iteration, while in '__segmented_groundTruth__,' there are binary masks of the respective patient segmentations done manually. To set up these folders and TXT files correctly, please refer to the pyKNEEr documentation.\n"
   ]
  },
  {
   "cell_type": "code",
   "execution_count": null,
   "metadata": {},
   "outputs": [],
   "source": [
    "import os\n",
    "import evolutive_grid_search as egs\n",
    "from scipy.optimize import differential_evolution\n",
    "\n",
    "#Definition of the base path\n",
    "base_path = os.getcwd()"
   ]
  },
  {
   "cell_type": "markdown",
   "metadata": {},
   "source": [
    "## 1. Rigid optimization phase"
   ]
  },
  {
   "cell_type": "markdown",
   "metadata": {},
   "source": [
    "In the first phase, only the parameters related to rigid transformation are allowed to vary, while the parameters related to the similarity and spline phases are kept fixed at their original values."
   ]
  },
  {
   "cell_type": "code",
   "execution_count": null,
   "metadata": {},
   "outputs": [],
   "source": [
    "# Definition of bounds and fixed parameters\n",
    "bounds_rigid = [(3, 6), (1, 3), (32, 128), (1, 4), (2000, 8000), (1, 3), (1,2), (250, 2000), (3, 4)]\n",
    "fixed_params_similarity = [3, 1, 32, 1, 3000, 1, 1, 250, 3]\n",
    "fixed_params_spline = [5, 1, 32, 1, 2000, 1, 1, 1000, 3]\n",
    "# Perform the rigid optimization\n",
    "try:\n",
    "    result_rigid = differential_evolution(egs.rigid_optimization_function, bounds_rigid, \\\n",
    "                                          args=(fixed_params_similarity, fixed_params_spline), strategy='best1bin', disp=True, polish=True)\n",
    "except Exception as e:\n",
    "    print(e)"
   ]
  },
  {
   "cell_type": "markdown",
   "metadata": {},
   "source": [
    "## 2. Similarity optimization phase"
   ]
  },
  {
   "cell_type": "markdown",
   "metadata": {},
   "source": [
    "In the second phase, the best parameters obtained in the rigid phase are kept fixed, and the parameters related to the similarity transformation are allowed to vary, while the parameters related to the spline phase are kept fixed as their original values."
   ]
  },
  {
   "cell_type": "code",
   "execution_count": null,
   "metadata": {},
   "outputs": [],
   "source": [
    "bounds_similarity = [(3, 6), (1, 3), (32, 128), (1, 4), (2000, 8000), (1, 3), (1,2), (250, 2000), (3, 4)]\n",
    "# Use the parameters optimized during the rigid phase\n",
    "optimized_params_rigid = egs.best_params_rigid\n",
    "# Perform the similarity optimization\n",
    "try:\n",
    "    result_similarity = differential_evolution(egs.similarity_optimization_function, bounds_similarity, \\\n",
    "                                               args=(optimized_params_rigid, fixed_params_spline), strategy='best1bin', disp=True, polish=True)\n",
    "except Exception as e:\n",
    "    print(e)"
   ]
  },
  {
   "cell_type": "markdown",
   "metadata": {},
   "source": [
    "## 3. Spline optimization phase"
   ]
  },
  {
   "cell_type": "markdown",
   "metadata": {},
   "source": [
    "In the final phase, the best parameters obtained in the first two phases are kept fixed, while the parameters related to the spline phase are allowed to vary."
   ]
  },
  {
   "cell_type": "code",
   "execution_count": null,
   "metadata": {},
   "outputs": [],
   "source": [
    "bounds_spline = [(3, 6), (1, 3), (32, 128), (1, 4), (2000, 8000), (1, 3), (1,2), (250, 2000), (3, 4)]\n",
    "# Use the parameters optimized in previous stages\n",
    "optimized_params_similarity = egs.best_params_similarity\n",
    "# Perform the spline optimization\n",
    "try:\n",
    "    result_spline = differential_evolution(egs.spline_optimization_function, bounds_spline, \\\n",
    "                                           args=(optimized_params_rigid, optimized_params_similarity), strategy='best1bin', disp=True, polish=True)\n",
    "except Exception as e:\n",
    "    print(e)\n",
    "optimized_params_spline = egs.best_params_spline"
   ]
  },
  {
   "cell_type": "markdown",
   "metadata": {},
   "source": [
    "## Statistical analysis"
   ]
  },
  {
   "cell_type": "markdown",
   "metadata": {},
   "source": [
    "A statistical analysis of the results is presented. The obtained graph shows the iterations in which the best parameters were achieved."
   ]
  },
  {
   "cell_type": "code",
   "execution_count": null,
   "metadata": {},
   "outputs": [],
   "source": [
    "# Building the full path to the parameters_optimization.csv file\n",
    "filepath = os.path.join(base_path, \"pykneer\", \"optimal_parameters\", \"optimal_parameters.csv\")\n",
    "# Perform statistical analysis\n",
    "egs.statistical_results_analysis(filepath, optimized_params_rigid, optimized_params_similarity, optimized_params_spline)"
   ]
  },
  {
   "cell_type": "markdown",
   "metadata": {},
   "source": [
    "## References"
   ]
  },
  {
   "cell_type": "markdown",
   "metadata": {},
   "source": [
    "[1] __Source__  \n",
    "__Paper__: Bonaretti S., Gold G., Beaupre G. pyKNEEr: [*An image analysis workflow for open and reproducible research on femoral knee cartilage*](https://journals.plos.org/plosone/article?id=10.1371/journal.pone.0226501) PLOS ONE 15(1): e0226501  \n",
    "__Code__: Bonaretti S. pyKNEEr. Zenodo. 2019. 10.5281/zenodo.2574171 [*Link*](https://zenodo.org/records/7695948)  \n",
    "__Data__: Dataset in (Bonaretti S. et al. 2019). Zenodo. 10.5281/zenodo.2583184 [*Link*](https://zenodo.org/records/2583184)  "
   ]
  },
  {
   "cell_type": "markdown",
   "metadata": {},
   "source": [
    "## Computer system details"
   ]
  },
  {
   "cell_type": "code",
   "execution_count": null,
   "metadata": {},
   "outputs": [],
   "source": [
    "%load_ext watermark\n",
    "print (\"elastix 4.8.0\\n\")\n",
    "%watermark -v -m -p pykneer,SimpleITK,numpy,matplotlib,multiprocessing,ipywidgets,watermark\n",
    "print (\" \")\n",
    "%watermark -u -n -t -z "
   ]
  }
 ],
 "metadata": {
  "kernelspec": {
   "display_name": "Python 3",
   "language": "python",
   "name": "python3"
  },
  "language_info": {
   "codemirror_mode": {
    "name": "ipython",
    "version": 3
   },
   "file_extension": ".py",
   "mimetype": "text/x-python",
   "name": "python",
   "nbconvert_exporter": "python",
   "pygments_lexer": "ipython3",
   "version": "3.11.4"
  }
 },
 "nbformat": 4,
 "nbformat_minor": 5
}
