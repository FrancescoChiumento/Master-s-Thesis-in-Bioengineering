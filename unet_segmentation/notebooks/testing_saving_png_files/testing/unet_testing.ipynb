{
 "cells": [
  {
   "cell_type": "markdown",
   "metadata": {},
   "source": [
    "Importing libraries"
   ]
  },
  {
   "cell_type": "code",
   "execution_count": null,
   "metadata": {},
   "outputs": [],
   "source": [
    "from slice_extraction import process_directory, clean_folder\n",
    "from unet_segmentation import run_segmentation\n",
    "from compositionMha import combine_slices_to_mha\n",
    "\n",
    "import torch\n",
    "import os"
   ]
  },
  {
   "cell_type": "code",
   "execution_count": null,
   "metadata": {},
   "outputs": [],
   "source": [
    "# Define paths and settings\n",
    "\n",
    "images_dir = r\"your/path/here\"\n",
    "masks_dir = r\"your/path/here\"\n",
    "images_slices = r\"your/path/here\"\n",
    "masks_slices = r\"your/path/here\"\n",
    "checkpoint_path = r\"your/path/here\"\n",
    "predictions = r\"your/path/here\"\n",
    "segmentations = r\"your/path/here\"\n",
    "\n",
    "spacing = (0.4121, 0.4121, 0.4)  # Update according to your image spacing\n",
    "\n",
    "should_flip = True # Option to flip the images if needed"
   ]
  },
  {
   "cell_type": "code",
   "execution_count": null,
   "metadata": {},
   "outputs": [],
   "source": [
    "patient_dirs = os.listdir(images_dir)"
   ]
  },
  {
   "cell_type": "code",
   "execution_count": null,
   "metadata": {},
   "outputs": [],
   "source": [
    "device = torch.device(\"cuda\" if torch.cuda.is_available() else \"cpu\")"
   ]
  },
  {
   "cell_type": "code",
   "execution_count": null,
   "metadata": {},
   "outputs": [],
   "source": [
    "for patient in patient_dirs:\n",
    "    image_mha_path = os.path.join(images_dir, patient)\n",
    "    mask_mha_path = os.path.join(masks_dir, patient)\n",
    "    \n",
    "    # Clean the folders for slices and predictions before each patient\n",
    "    clean_folder(images_slices)\n",
    "    clean_folder(masks_slices)\n",
    "    clean_folder(predictions)\n",
    "\n",
    "    # Call the updated function with the specific file paths\n",
    "    process_directory(image_mha_path, mask_mha_path, images_slices, masks_slices)\n",
    "\n",
    "    run_segmentation(checkpoint_path, images_slices, masks_slices, predictions, device)\n",
    "\n",
    "    combine_slices_to_mha(predictions, os.path.join(segmentations, f\"{patient}_segmentation.mha\"), spacing, should_flip)\n",
    "   \n",
    "    print(f\"The process has been completed for the patient {patient}.\")\n"
   ]
  }
 ],
 "metadata": {
  "kernelspec": {
   "display_name": "Python 3",
   "language": "python",
   "name": "python3"
  },
  "language_info": {
   "codemirror_mode": {
    "name": "ipython",
    "version": 3
   },
   "file_extension": ".py",
   "mimetype": "text/x-python",
   "name": "python",
   "nbconvert_exporter": "python",
   "pygments_lexer": "ipython3",
   "version": "3.11.4"
  }
 },
 "nbformat": 4,
 "nbformat_minor": 4
}
